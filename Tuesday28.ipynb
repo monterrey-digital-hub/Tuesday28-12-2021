{
 "cells": [
  {
   "cell_type": "code",
   "execution_count": 1,
   "id": "3ec9be18-77b7-43a1-a7a6-afd28925cd37",
   "metadata": {},
   "outputs": [],
   "source": [
    "#step 0 \n",
    "# do the necesary imports of librarys\n",
    "\n"
   ]
  },
  {
   "cell_type": "code",
   "execution_count": 2,
   "id": "3a124007-ec30-4388-a85e-f50563f80f95",
   "metadata": {},
   "outputs": [],
   "source": [
    "#step 1\n",
    "#read Cleaned_SPY500.csv  as pandas dataframe\n",
    "\n",
    "#set Date as index"
   ]
  },
  {
   "cell_type": "markdown",
   "id": "f668a8b2-eb71-4372-b7bf-c1572aaacd2d",
   "metadata": {},
   "source": [
    "# Thinking a logic for compare 2 diferent stocks\n",
    "\n",
    "if we compare a stock of 1000 dolars with one of 1 dolar its imposible to compare it by price, but we can focus in percentage of change over time\n",
    "\n",
    "we will focus on that idea, lets see what happens and were we can go from it\n",
    "\n",
    "lets make an experiment"
   ]
  },
  {
   "cell_type": "code",
   "execution_count": 3,
   "id": "ec7f207b-b407-4182-a845-43038f84a6d8",
   "metadata": {},
   "outputs": [],
   "source": [
    "#step 2\n",
    "#create a copy of your original dataframe and call it experiment_1\n",
    "\n",
    "\n",
    "#use the experiment_1 dataframe and select SPY and TSLA \n",
    "#we will divide the first date we have (0 row) \n",
    "#and the last date we have (-1 row)\n",
    "\n",
    "# first_date/last_date -1  this will give us a percentage  of change so lets do that\n",
    "\n"
   ]
  },
  {
   "cell_type": "markdown",
   "id": "7a02746c-b7c6-4143-af6b-dc13ae465df3",
   "metadata": {},
   "source": [
    "# first date known\n",
    "\n",
    "| Date       |   SPY |   TSLA |\n",
    "|:-----------|------:|-------:|\n",
    "| 2021-12-23 | 470.6 |   1067 |\n",
    "\n",
    "# Last date known\n",
    "| Date       |    SPY |   TSLA |\n",
    "|:-----------|-------:|-------:|\n",
    "| 2019-12-27 | 322.86 | 86.076 |"
   ]
  },
  {
   "cell_type": "code",
   "execution_count": 4,
   "id": "1660188c-93cc-4ac2-8918-f477ba92d6ec",
   "metadata": {},
   "outputs": [],
   "source": [
    "#step 3\n",
    "#do the calculations and create a print just like the next markdown\n",
    "\n"
   ]
  },
  {
   "cell_type": "markdown",
   "id": "c8d28f93-7134-4fe2-89d0-3eed878c76c9",
   "metadata": {},
   "source": [
    "la accion SPY ha subido 45.76% desde el 27 de dic 2019 al 23 de dic 2021\n",
    "\n",
    "la accion SPY inicio en 322.8599853515625 y termino en 470.6000061035156 en 2 años\n",
    "\n",
    "------------------------------------------------------------------------------------------------\n",
    "la accion TSLA ha subido 1139.6% desde el 27 de dic 2019 al 23 de dic 2021\n",
    "\n",
    "la accion TSLA inicio en 86.07599639892578 y termino en 1067.0 en 2 años\n",
    "\n",
    "------------------------------------------------------------------------------------------------"
   ]
  },
  {
   "cell_type": "markdown",
   "id": "63164b2e-2d27-483a-a02a-77e020861093",
   "metadata": {},
   "source": [
    "# The problem with this idea is we need to buy at specific point in history to get this result, its not real, some gurus in internet lie to people with this kind of analysis, so be carefull !\n",
    "\n",
    "the flaws of this kind of analysis:\n",
    "\n",
    "-- not working if you invest at some point in the future\n",
    "\n",
    "-- you dont know how far it can go down\n",
    "\n",
    "-- you cant compare TSLA to its breanchmark SPY "
   ]
  },
  {
   "cell_type": "code",
   "execution_count": 5,
   "id": "02ffbc1c-7fb8-4585-ad64-d52de466e470",
   "metadata": {},
   "outputs": [],
   "source": [
    "#step 4\n",
    "#Write down some other flaws this analysis have\n",
    "\n",
    "\n"
   ]
  },
  {
   "cell_type": "markdown",
   "id": "03079999-7763-4fcb-9ad4-306a16bcc108",
   "metadata": {},
   "source": [
    "# how we can make it stronger?\n",
    "\n",
    "what if we compare each day lets say  23 dic 2021 to 22 dic 2021 and get the percentage of change of each day? we will not going to lose too much data and we can compare brenchmark to any stock \n",
    "\n",
    "we going to answer some questions:\n",
    "\n",
    "-- if the market(brenchmark) go up, does my stock go up too?\n",
    "\n",
    "-- how strong news hit the stock?\n",
    "\n",
    "-- how risky is investing in this stock?\n",
    "\n",
    "-- how much i can win if i invest at any giving point?\n",
    "\n",
    "-- does its better than invest it on the bank?\n",
    "\n",
    "# the first we going to do is get the percentage of each day"
   ]
  },
  {
   "cell_type": "code",
   "execution_count": 6,
   "id": "9712b1c3-fbd8-4a57-9f2a-f52e4102184e",
   "metadata": {},
   "outputs": [],
   "source": [
    "#step 5\n",
    "#1.-create another copy of the original data and Select only SPY and TSLA and call that copy called experiment_2\n",
    "\n",
    "\n",
    "#2.-Select SPY column and make a new column named SPY-shift, this new colum is a shift of 1 of the original SPY column\n",
    "#hint --- https://pandas.pydata.org/docs/reference/api/pandas.DataFrame.shift.html\n",
    "\n",
    "\n",
    "#3.-do the same to TSLA\n",
    "\n",
    "\n",
    "#4.-print the output of experiment_2\n"
   ]
  },
  {
   "cell_type": "markdown",
   "id": "e1f3220b-ab5f-4097-872c-db30f29b9d4a",
   "metadata": {},
   "source": [
    "# this is the example output of the shift\n",
    "| Date       |    SPY |    TSLA |   SPY-shift |   TSLA-shift |\n",
    "|:-----------|-------:|--------:|------------:|-------------:|\n",
    "| 2021-12-23 | 470.6  | 1067    |      nan    |       nan    |\n",
    "| 2021-12-22 | 467.69 | 1008.87 |      470.6  |      1067    |\n",
    "| 2021-12-21 | 463.06 |  938.53 |      467.69 |      1008.87 |\n",
    "| 2021-12-20 | 454.98 |  899.94 |      463.06 |       938.53 |"
   ]
  },
  {
   "cell_type": "markdown",
   "id": "1f107d7f-db76-4af1-8aab-9076059b139a",
   "metadata": {},
   "source": [
    "# As you can see now if we remove the first row we can make a division\n",
    "\n",
    "precentage of change = ( SPY-shift / SPY )-1\n",
    "\n",
    "precentage of change = ( stock-shift / stock )-1\n",
    "\n",
    "Lets do that!"
   ]
  },
  {
   "cell_type": "code",
   "execution_count": 7,
   "id": "7ca91610-94a5-4206-9aaf-a61776998c36",
   "metadata": {},
   "outputs": [],
   "source": [
    "#step 6\n",
    "#remove the first row of all dataframe\n",
    "\n",
    "\n"
   ]
  },
  {
   "cell_type": "markdown",
   "id": "7e94d6d5-fe27-418c-b4b7-3b5303a9bd59",
   "metadata": {},
   "source": [
    "# Output example\n",
    "| Date       |    SPY |    TSLA |   SPY-shift |   TSLA-shift |\n",
    "|:-----------|-------:|--------:|------------:|-------------:|\n",
    "| 2021-12-22 | 467.69 | 1008.87 |      470.6  |      1067    |\n",
    "| 2021-12-21 | 463.06 |  938.53 |      467.69 |      1008.87 |\n",
    "| 2021-12-20 | 454.98 |  899.94 |      463.06 |       938.53 |\n",
    "| 2021-12-17 | 459.87 |  932.57 |      454.98 |       899.94 |"
   ]
  },
  {
   "cell_type": "code",
   "execution_count": 8,
   "id": "9c4c0aab-5d72-4456-aae4-9c0a5ff9df92",
   "metadata": {},
   "outputs": [],
   "source": [
    "#step 7\n",
    "#Create 2 new columns called SPY-percentage and TSLA-percentage with the calculations needed\n",
    "\n"
   ]
  },
  {
   "cell_type": "markdown",
   "id": "59ccb832-251c-47fd-b736-4dc1702dfbe0",
   "metadata": {},
   "source": [
    "# output Example\n",
    "\n",
    "| Date       |    SPY |    TSLA |   SPY-shift |   TSLA-shift |   SPY-percentage |   TSLA-percentage |\n",
    "|:-----------|-------:|--------:|------------:|-------------:|-----------------:|------------------:|\n",
    "| 2021-12-22 | 467.69 | 1008.87 |      470.6  |      1067    |       0.00622208 |        0.0576189  |\n",
    "| 2021-12-21 | 463.06 |  938.53 |      467.69 |      1008.87 |       0.00999871 |        0.074947   |\n",
    "| 2021-12-20 | 454.98 |  899.94 |      463.06 |       938.53 |       0.017759   |        0.0428807  |\n",
    "| 2021-12-17 | 459.87 |  932.57 |      454.98 |       899.94 |      -0.0106334  |       -0.0349893  |\n",
    "| 2021-12-16 | 466.45 |  926.92 |      459.87 |       932.57 |      -0.0141066  |        0.00609548 |\n",
    "| 2021-12-15 | 470.6  |  975.99 |      466.45 |       926.92 |      -0.00881852 |       -0.0502772  |\n",
    "| 2021-12-14 | 463.36 |  958.51 |      470.6  |       975.99 |       0.015625   |        0.0182366  |"
   ]
  },
  {
   "cell_type": "markdown",
   "id": "e67c113f-b6aa-4945-bf0e-48d52d0ea1e4",
   "metadata": {},
   "source": [
    "# Now we have an economic problem \n",
    "\n",
    "The problem its calculating a basic persentage it doesent give us information of the predecesors prices\n",
    "\n",
    "# So how we can fix it?\n",
    "\n",
    "in order to get compound percentages we use base 10 log\n",
    "\n",
    "compund percentages = log(SPY-shift/SPY)\n",
    "\n",
    "compund percentages = log(Stock-shift/Stock)\n"
   ]
  },
  {
   "cell_type": "code",
   "execution_count": 9,
   "id": "1d43c8aa-d9b9-471f-93f6-d7b73fb3a85e",
   "metadata": {},
   "outputs": [],
   "source": [
    "#step 8\n",
    "#create a new column of SPY and TSLA compound percentage\n",
    "\n"
   ]
  },
  {
   "cell_type": "markdown",
   "id": "af8fbe8f-6dcf-4974-936b-c39282f9389b",
   "metadata": {},
   "source": [
    "# Output example\n",
    "| Date       |    SPY |    TSLA |   SPY-shift |   TSLA-shift |   SPY-percentage |   TSLA-percentage |   SPY-compund_percentage |   TSLA-compund_percentage |\n",
    "|:-----------|-------:|--------:|------------:|-------------:|-----------------:|------------------:|-------------------------:|--------------------------:|\n",
    "| 2021-12-22 | 467.69 | 1008.87 |      470.6  |      1067    |       0.00622208 |         0.0576189 |               0.0062028  |                 0.0560201 |\n",
    "| 2021-12-21 | 463.06 |  938.53 |      467.69 |      1008.87 |       0.00999871 |         0.074947  |               0.00994906 |                 0.0722713 |\n",
    "| 2021-12-20 | 454.98 |  899.94 |      463.06 |       938.53 |       0.017759   |         0.0428807 |               0.0176031  |                 0.0419868 |\n",
    "| 2021-12-17 | 459.87 |  932.57 |      454.98 |       899.94 |      -0.0106334  |        -0.0349893 |              -0.0106903  |                -0.0356161 |\n",
    "\n",
    "# The changes are little at small scale\n",
    "\n",
    "lets print basic statistics"
   ]
  },
  {
   "cell_type": "code",
   "execution_count": 10,
   "id": "3ecc819a-599d-4a09-b6ef-3f9bbd2835c8",
   "metadata": {},
   "outputs": [],
   "source": [
    "#step 9\n",
    "#print experiment_2 basic statistics\n",
    "\n",
    "\n"
   ]
  },
  {
   "cell_type": "markdown",
   "id": "75b02962-c196-4306-b1d0-dc998221dcdc",
   "metadata": {},
   "source": [
    "# Output example\n",
    "\n",
    "we can see there is small diferences in the mean, std, and other values.\n",
    "\n",
    "|       |      SPY |     TSLA |   SPY-shift |   TSLA-shift |   SPY-percentage |   TSLA-percentage |   SPY-compund_percentage |   TSLA-compund_percentage |\n",
    "|:------|---------:|---------:|------------:|-------------:|-----------------:|------------------:|-------------------------:|--------------------------:|\n",
    "| count | 503      |  503     |    503      |      503     |    503           |      503          |            503           |              503          |\n",
    "| mean  | 372.039  |  524.461 |    372.333  |      526.411 |      0.000878496 |        0.0061102  |              0.000748592 |                0.00500214 |\n",
    "| std   |  59.9659 |  292.754 |     60.0864 |      293.095 |      0.0160468   |        0.0469058  |              0.0161544   |                0.0468223  |\n",
    "| min   | 222.95   |   72.244 |    222.95   |       72.244 |     -0.109424    |       -0.210628   |             -0.115887    |               -0.236518   |\n",
    "| 25%   | 326.53   |  201.331 |    326.58   |      203.44  |     -0.004578    |       -0.0187014  |             -0.00458851  |               -0.0188785  |\n",
    "| 50%   | 370.07   |  599.05  |    370.17   |      599.36  |      0.00165249  |        0.00310067 |              0.00165113  |                0.00309587 |\n",
    "| 75%   | 425.18   |  717.8   |    425.935  |      718.71  |      0.00787708  |        0.0279208  |              0.00784622  |                0.0275382  |\n",
    "| max   | 470.74   | 1229.91  |    470.74   |     1229.91  |      0.0906033   |        0.198949   |              0.086731    |                0.181445   |"
   ]
  },
  {
   "cell_type": "markdown",
   "id": "a3fe10dc-95cf-42df-a8fa-ad59d3628176",
   "metadata": {},
   "source": [
    "# Now we have learned that we can do this to a couple of stocks\n",
    "\n",
    "The next assigment will be doing this analysis to all stocks, and some graphs so be ready\n"
   ]
  },
  {
   "cell_type": "code",
   "execution_count": null,
   "id": "abfd4b16-7f80-45c4-a9ee-386c94eaea64",
   "metadata": {},
   "outputs": [],
   "source": []
  }
 ],
 "metadata": {
  "kernelspec": {
   "display_name": "Python 3 (ipykernel)",
   "language": "python",
   "name": "python3"
  },
  "language_info": {
   "codemirror_mode": {
    "name": "ipython",
    "version": 3
   },
   "file_extension": ".py",
   "mimetype": "text/x-python",
   "name": "python",
   "nbconvert_exporter": "python",
   "pygments_lexer": "ipython3",
   "version": "3.9.7"
  }
 },
 "nbformat": 4,
 "nbformat_minor": 5
}
